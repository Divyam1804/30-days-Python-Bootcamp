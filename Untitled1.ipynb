{
  "nbformat": 4,
  "nbformat_minor": 0,
  "metadata": {
    "colab": {
      "name": "Untitled1.ipynb",
      "provenance": [],
      "collapsed_sections": [],
      "authorship_tag": "ABX9TyMU+wcDtOGhY6sI8HuP/l7W",
      "include_colab_link": true
    },
    "kernelspec": {
      "name": "python3",
      "display_name": "Python 3"
    },
    "language_info": {
      "name": "python"
    }
  },
  "cells": [
    {
      "cell_type": "markdown",
      "metadata": {
        "id": "view-in-github",
        "colab_type": "text"
      },
      "source": [
        "<a href=\"https://colab.research.google.com/github/Divyam1804/30-days-Python-Bootcamp/blob/main/Untitled1.ipynb\" target=\"_parent\"><img src=\"https://colab.research.google.com/assets/colab-badge.svg\" alt=\"Open In Colab\"/></a>"
      ]
    },
    {
      "cell_type": "code",
      "metadata": {
        "id": "8l9ZZvsIJRUZ"
      },
      "source": [
        ""
      ],
      "execution_count": null,
      "outputs": []
    },
    {
      "cell_type": "markdown",
      "metadata": {
        "id": "tYVS8hy-LlyU"
      },
      "source": [
        "1)numbers-it includes natural no,float,whole no,real no. eg:-12,12.5\n",
        "2)string - it stores data within double quotes .it represents a sequence of characters. eg:-\"bengaluru\"\n",
        "3)list- it is of immutable data type which means it could be change during execution  of program.it enclosed between [].eg:-[1,2,6]\n",
        "4)tuples-it includes sequences of chatracters and it is mutuable .it is enclosed between {}.eg:-{1,7,6}\n",
        "5)Dictionary-it works on key value pairs . it is enclosed between {}.eg:-{\"k1\":god}\n",
        "6) sets - it consists of unordered sequence .it retain only unique value.it does not repeated character .eg:-(1,0,9)\n",
        "\n"
      ]
    },
    {
      "cell_type": "code",
      "metadata": {
        "colab": {
          "base_uri": "https://localhost:8080/"
        },
        "id": "NFyOb3F3NcbO",
        "outputId": "8c12d07c-88bb-45d8-b03d-4f26f8164099"
      },
      "source": [
        "a=600.25\n",
        "b=2\n",
        "a*b\n"
      ],
      "execution_count": 1,
      "outputs": [
        {
          "output_type": "execute_result",
          "data": {
            "text/plain": [
              "1200.5"
            ]
          },
          "metadata": {},
          "execution_count": 1
        }
      ]
    },
    {
      "cell_type": "code",
      "metadata": {
        "colab": {
          "base_uri": "https://localhost:8080/"
        },
        "id": "QEV0JvkMN-xM",
        "outputId": "f13fafe1-45d6-48e2-9cb5-5b4f191bf442"
      },
      "source": [
        "a=1200\n",
        "b=0.5\n",
        "a+b\n"
      ],
      "execution_count": 2,
      "outputs": [
        {
          "output_type": "execute_result",
          "data": {
            "text/plain": [
              "1200.5"
            ]
          },
          "metadata": {},
          "execution_count": 2
        }
      ]
    },
    {
      "cell_type": "code",
      "metadata": {
        "colab": {
          "base_uri": "https://localhost:8080/"
        },
        "id": "hiq1_g1FOIhv",
        "outputId": "2c4f736f-ed9f-43ad-8c8b-f68b9c6fcb1a"
      },
      "source": [
        "a=1201\n",
        "b=0.5\n",
        "a-b\n"
      ],
      "execution_count": 3,
      "outputs": [
        {
          "output_type": "execute_result",
          "data": {
            "text/plain": [
              "1200.5"
            ]
          },
          "metadata": {},
          "execution_count": 3
        }
      ]
    },
    {
      "cell_type": "code",
      "metadata": {
        "colab": {
          "base_uri": "https://localhost:8080/"
        },
        "id": "5hbKlragOfDh",
        "outputId": "d1a13c6c-6751-4e37-c51a-b620be4caa4d"
      },
      "source": [
        "a=360.15\n",
        "b=.3\n",
        "a/b"
      ],
      "execution_count": 5,
      "outputs": [
        {
          "output_type": "execute_result",
          "data": {
            "text/plain": [
              "1200.5"
            ]
          },
          "metadata": {},
          "execution_count": 5
        }
      ]
    },
    {
      "cell_type": "code",
      "metadata": {
        "colab": {
          "base_uri": "https://localhost:8080/"
        },
        "id": "O8dx0IJRPQFN",
        "outputId": "3aa97efe-aa03-43d9-d35c-29ed3bf78864"
      },
      "source": [
        "a=134724\n",
        "b=9\n",
        "a%b"
      ],
      "execution_count": 14,
      "outputs": [
        {
          "output_type": "execute_result",
          "data": {
            "text/plain": [
              "3"
            ]
          },
          "metadata": {},
          "execution_count": 14
        }
      ]
    },
    {
      "cell_type": "markdown",
      "metadata": {
        "id": "4-3cuONUQhOI"
      },
      "source": [
        "22160\n",
        "21989\n",
        "41753"
      ]
    },
    {
      "cell_type": "code",
      "metadata": {
        "id": "1lMtoGJJQmZ0"
      },
      "source": [
        ""
      ],
      "execution_count": null,
      "outputs": []
    },
    {
      "cell_type": "code",
      "metadata": {
        "colab": {
          "base_uri": "https://localhost:8080/"
        },
        "id": "sKRlgVQbQLc3",
        "outputId": "058e5bb8-bf48-45fb-a2a1-d17ac33efbc5"
      },
      "source": [
        "10 * (13**3 + 19)"
      ],
      "execution_count": 15,
      "outputs": [
        {
          "output_type": "execute_result",
          "data": {
            "text/plain": [
              "22160"
            ]
          },
          "metadata": {},
          "execution_count": 15
        }
      ]
    },
    {
      "cell_type": "code",
      "metadata": {
        "colab": {
          "base_uri": "https://localhost:8080/"
        },
        "id": "TBtzoZxlQULo",
        "outputId": "e72b6288-3ecd-4740-b773-1448ab77d868"
      },
      "source": [
        "10 * 13**3 + 19"
      ],
      "execution_count": 16,
      "outputs": [
        {
          "output_type": "execute_result",
          "data": {
            "text/plain": [
              "21989"
            ]
          },
          "metadata": {},
          "execution_count": 16
        }
      ]
    },
    {
      "cell_type": "code",
      "metadata": {
        "colab": {
          "base_uri": "https://localhost:8080/"
        },
        "id": "VC_R1cn6QXd7",
        "outputId": "8e51b071-f285-4ea2-baa0-234a6b8cee02"
      },
      "source": [
        "10 + 13**3 * 19 \n",
        "\n"
      ],
      "execution_count": 17,
      "outputs": [
        {
          "output_type": "execute_result",
          "data": {
            "text/plain": [
              "41753"
            ]
          },
          "metadata": {},
          "execution_count": 17
        }
      ]
    },
    {
      "cell_type": "code",
      "metadata": {
        "colab": {
          "base_uri": "https://localhost:8080/"
        },
        "id": "016xWOUVQp3c",
        "outputId": "225fcd89-c259-4bda-b330-17c7c81d721b"
      },
      "source": [
        "a= 3 \n",
        "b=1.5\n",
        "c=4\n",
        "a+b+c"
      ],
      "execution_count": 18,
      "outputs": [
        {
          "output_type": "execute_result",
          "data": {
            "text/plain": [
              "8.5"
            ]
          },
          "metadata": {},
          "execution_count": 18
        }
      ]
    },
    {
      "cell_type": "markdown",
      "metadata": {
        "id": "DNub49WqRaC0"
      },
      "source": [
        "type of the above expression is float\n"
      ]
    },
    {
      "cell_type": "code",
      "metadata": {
        "id": "DGf3_RMRRjcy"
      },
      "source": [
        "no = 3\n",
        "code1 = no **3\n",
        "code2 = no *0.667"
      ],
      "execution_count": 28,
      "outputs": []
    },
    {
      "cell_type": "markdown",
      "metadata": {
        "id": "vLrzb3CwTmfg"
      },
      "source": [
        "here code 1 is for cube and code 2 is for cube root\n"
      ]
    },
    {
      "cell_type": "code",
      "metadata": {
        "colab": {
          "base_uri": "https://localhost:8080/",
          "height": 35
        },
        "id": "PFQtdGAHTtJo",
        "outputId": "97928598-7c04-4da0-c8f3-e993e6ec810e"
      },
      "source": [
        "s = 'Absquatulate'\n",
        "s[3]"
      ],
      "execution_count": 29,
      "outputs": [
        {
          "output_type": "execute_result",
          "data": {
            "application/vnd.google.colaboratory.intrinsic+json": {
              "type": "string"
            },
            "text/plain": [
              "'q'"
            ]
          },
          "metadata": {},
          "execution_count": 29
        }
      ]
    },
    {
      "cell_type": "code",
      "metadata": {
        "colab": {
          "base_uri": "https://localhost:8080/",
          "height": 35
        },
        "id": "baQjsy6vUAKD",
        "outputId": "b63f5d6b-2c26-449a-a969-16a5d28c88f0"
      },
      "source": [
        "s[::-1]"
      ],
      "execution_count": 37,
      "outputs": [
        {
          "output_type": "execute_result",
          "data": {
            "application/vnd.google.colaboratory.intrinsic+json": {
              "type": "string"
            },
            "text/plain": [
              "'etalutauqsbA'"
            ]
          },
          "metadata": {},
          "execution_count": 37
        }
      ]
    },
    {
      "cell_type": "code",
      "metadata": {
        "colab": {
          "base_uri": "https://localhost:8080/",
          "height": 35
        },
        "id": "56zhHG_iVqju",
        "outputId": "be2a5888-4e96-4fb8-b08c-f7e455456f6b"
      },
      "source": [
        "s[6]"
      ],
      "execution_count": 39,
      "outputs": [
        {
          "output_type": "execute_result",
          "data": {
            "application/vnd.google.colaboratory.intrinsic+json": {
              "type": "string"
            },
            "text/plain": [
              "'t'"
            ]
          },
          "metadata": {},
          "execution_count": 39
        }
      ]
    },
    {
      "cell_type": "code",
      "metadata": {
        "colab": {
          "base_uri": "https://localhost:8080/",
          "height": 35
        },
        "id": "piUp0gnWWu6z",
        "outputId": "d94eb375-25f4-4533-a071-59d7eff35b43"
      },
      "source": [
        "s[-6]"
      ],
      "execution_count": 50,
      "outputs": [
        {
          "output_type": "execute_result",
          "data": {
            "application/vnd.google.colaboratory.intrinsic+json": {
              "type": "string"
            },
            "text/plain": [
              "'t'"
            ]
          },
          "metadata": {},
          "execution_count": 50
        }
      ]
    },
    {
      "cell_type": "code",
      "metadata": {
        "colab": {
          "base_uri": "https://localhost:8080/"
        },
        "id": "jRUN9X0zYWZw",
        "outputId": "ce698238-11dc-4edd-fa08-e8b6a8e4680f"
      },
      "source": [
        "list1 = [10,10,10,10]\n",
        "list1\n"
      ],
      "execution_count": 63,
      "outputs": [
        {
          "output_type": "execute_result",
          "data": {
            "text/plain": [
              "[10, 10, 10, 10]"
            ]
          },
          "metadata": {},
          "execution_count": 63
        }
      ]
    },
    {
      "cell_type": "code",
      "metadata": {
        "colab": {
          "base_uri": "https://localhost:8080/"
        },
        "id": "bUZ8w-7IZJR4",
        "outputId": "1c6ed4bc-8255-41a8-d13c-7bf86e0b208f"
      },
      "source": [
        "list1 + [10]"
      ],
      "execution_count": 64,
      "outputs": [
        {
          "output_type": "execute_result",
          "data": {
            "text/plain": [
              "[10, 10, 10, 10, 10]"
            ]
          },
          "metadata": {},
          "execution_count": 64
        }
      ]
    },
    {
      "cell_type": "code",
      "metadata": {
        "id": "cRFLsa4NZSms"
      },
      "source": [
        "list1.append(10)\n"
      ],
      "execution_count": 60,
      "outputs": []
    },
    {
      "cell_type": "code",
      "metadata": {
        "colab": {
          "base_uri": "https://localhost:8080/"
        },
        "id": "6kf5XzUyZXVl",
        "outputId": "9436e3fe-f195-4e29-dd0d-ffae64898437"
      },
      "source": [
        "list1"
      ],
      "execution_count": 62,
      "outputs": [
        {
          "output_type": "execute_result",
          "data": {
            "text/plain": [
              "[10, 10, 10, 10, 10]"
            ]
          },
          "metadata": {},
          "execution_count": 62
        }
      ]
    },
    {
      "cell_type": "code",
      "metadata": {
        "colab": {
          "base_uri": "https://localhost:8080/",
          "height": 35
        },
        "id": "0TzgTjdnZjaZ",
        "outputId": "8ccbe7c5-4d9d-4759-a012-9e5359dd4ccb"
      },
      "source": [
        "d = {'First_key':'Absquatulate'}\n",
        "d['First_key']"
      ],
      "execution_count": 66,
      "outputs": [
        {
          "output_type": "execute_result",
          "data": {
            "application/vnd.google.colaboratory.intrinsic+json": {
              "type": "string"
            },
            "text/plain": [
              "'Absquatulate'"
            ]
          },
          "metadata": {},
          "execution_count": 66
        }
      ]
    },
    {
      "cell_type": "code",
      "metadata": {
        "colab": {
          "base_uri": "https://localhost:8080/"
        },
        "id": "6BXHvi9vaJwj",
        "outputId": "dd4955b5-b8cc-4f90-d621-5a6526ac274e"
      },
      "source": [
        "d = {'k1':{'k2':'Absquatulate'}}\n",
        "d['k1']"
      ],
      "execution_count": 83,
      "outputs": [
        {
          "output_type": "execute_result",
          "data": {
            "text/plain": [
              "{'k2': 'Absquatulate'}"
            ]
          },
          "metadata": {},
          "execution_count": 83
        }
      ]
    },
    {
      "cell_type": "code",
      "metadata": {
        "colab": {
          "base_uri": "https://localhost:8080/"
        },
        "id": "k7GxblQhag1Z",
        "outputId": "fcc9f877-ce69-4f83-a063-92e3a67cfd2c"
      },
      "source": [
        "d = {'k1':[{'nest_key':['Cabotage',['Absquatulate']]}]}\n",
        "d['k1'],[0]"
      ],
      "execution_count": 79,
      "outputs": [
        {
          "output_type": "execute_result",
          "data": {
            "text/plain": [
              "([{'nest_key': ['Cabotage', ['Absquatulate']]}], [0])"
            ]
          },
          "metadata": {},
          "execution_count": 79
        }
      ]
    },
    {
      "cell_type": "code",
      "metadata": {
        "id": "VrD9MLR0cbCT"
      },
      "source": [
        "d = {'k1':[1,2,{'k2':['Pronk',{'Cabotage':[1,2,['Absquatulate']]}]}]}\n",
        "d1=d['k1'][-1]"
      ],
      "execution_count": 102,
      "outputs": []
    },
    {
      "cell_type": "code",
      "metadata": {
        "colab": {
          "base_uri": "https://localhost:8080/"
        },
        "id": "HM6xRgMVdWsA",
        "outputId": "0d4a314d-94d4-4045-f562-062a7c44b1d8"
      },
      "source": [
        "d1"
      ],
      "execution_count": 103,
      "outputs": [
        {
          "output_type": "execute_result",
          "data": {
            "text/plain": [
              "{'k2': ['Pronk', {'Cabotage': [1, 2, ['Absquatulate']]}]}"
            ]
          },
          "metadata": {},
          "execution_count": 103
        }
      ]
    },
    {
      "cell_type": "code",
      "metadata": {
        "id": "STbrxHdudlNm"
      },
      "source": [
        "d3=d1['k2'][1]"
      ],
      "execution_count": 112,
      "outputs": []
    },
    {
      "cell_type": "code",
      "metadata": {
        "colab": {
          "base_uri": "https://localhost:8080/"
        },
        "id": "1RxqEkdqeP9y",
        "outputId": "08fe1766-d1b0-4bf6-b7c6-87893ff24b31"
      },
      "source": [
        "d3"
      ],
      "execution_count": 113,
      "outputs": [
        {
          "output_type": "execute_result",
          "data": {
            "text/plain": [
              "{'Cabotage': [1, 2, ['Absquatulate']]}"
            ]
          },
          "metadata": {},
          "execution_count": 113
        }
      ]
    },
    {
      "cell_type": "code",
      "metadata": {
        "colab": {
          "base_uri": "https://localhost:8080/"
        },
        "id": "h-oyh91GeTQJ",
        "outputId": "bd86ed32-c533-4d9d-8b3b-6ee78721b787"
      },
      "source": [
        "d3['Cabotage'][2]"
      ],
      "execution_count": 119,
      "outputs": [
        {
          "output_type": "execute_result",
          "data": {
            "text/plain": [
              "['Absquatulate']"
            ]
          },
          "metadata": {},
          "execution_count": 119
        }
      ]
    },
    {
      "cell_type": "code",
      "metadata": {
        "id": "UdH5EYLYe2cq"
      },
      "source": [
        "d = {'k1':[{'nest_key':['Cabotage',['Absquatulate']]}]}\n",
        "dict2=d['k1'][0]"
      ],
      "execution_count": 127,
      "outputs": []
    },
    {
      "cell_type": "code",
      "metadata": {
        "colab": {
          "base_uri": "https://localhost:8080/"
        },
        "id": "qMgu4ko1fU2m",
        "outputId": "8a998aba-f2b7-4790-ba59-63429d0fb2ff"
      },
      "source": [
        "dict2"
      ],
      "execution_count": 128,
      "outputs": [
        {
          "output_type": "execute_result",
          "data": {
            "text/plain": [
              "{'nest_key': ['Cabotage', ['Absquatulate']]}"
            ]
          },
          "metadata": {},
          "execution_count": 128
        }
      ]
    },
    {
      "cell_type": "code",
      "metadata": {
        "colab": {
          "base_uri": "https://localhost:8080/"
        },
        "id": "SRfsW4F9fbpV",
        "outputId": "4f622a0f-5830-4791-a0a8-1d47f5a325d0"
      },
      "source": [
        "dict2['nest_key'][-1]"
      ],
      "execution_count": 135,
      "outputs": [
        {
          "output_type": "execute_result",
          "data": {
            "text/plain": [
              "['Absquatulate']"
            ]
          },
          "metadata": {},
          "execution_count": 135
        }
      ]
    },
    {
      "cell_type": "markdown",
      "metadata": {
        "id": "rS1xD4yrgBJy"
      },
      "source": [
        "yes we can sort a dictionary because it is mutable data type "
      ]
    },
    {
      "cell_type": "markdown",
      "metadata": {
        "id": "HO5jL3YOgI-u"
      },
      "source": [
        "the major difference is that list is a mutable data type means it can be changed during execution of the program while tuple is immutable data types which means it cannot be changed during execution of the program"
      ]
    },
    {
      "cell_type": "markdown",
      "metadata": {
        "id": "omzDRk_vgvz9"
      },
      "source": [
        "we use tuples as when we dont anything sequence to change we use tuples in code (immutable)"
      ]
    },
    {
      "cell_type": "markdown",
      "metadata": {
        "id": "67azavdBg-p4"
      },
      "source": [
        "we use sets which is unordered and unindexed"
      ]
    },
    {
      "cell_type": "code",
      "metadata": {
        "colab": {
          "base_uri": "https://localhost:8080/"
        },
        "id": "meoHVeu1hTzz",
        "outputId": "cb9e9e48-789f-49fa-e064-6de4df720291"
      },
      "source": [
        "list5 = [1,2,2,33,4,4,11,22,3,3,2,12,23,13,4,31,4,34,54,5,45,56,34,3,21,12,32]\n",
        "set(list5)"
      ],
      "execution_count": 136,
      "outputs": [
        {
          "output_type": "execute_result",
          "data": {
            "text/plain": [
              "{1, 2, 3, 4, 5, 11, 12, 13, 21, 22, 23, 31, 32, 33, 34, 45, 54, 56}"
            ]
          },
          "metadata": {},
          "execution_count": 136
        }
      ]
    },
    {
      "cell_type": "code",
      "metadata": {
        "colab": {
          "base_uri": "https://localhost:8080/"
        },
        "id": "Ljwunm16heCi",
        "outputId": "62430d32-a564-4a84-c347-bc86bfe7ec44"
      },
      "source": [
        "2 > 3\n"
      ],
      "execution_count": 137,
      "outputs": [
        {
          "output_type": "execute_result",
          "data": {
            "text/plain": [
              "False"
            ]
          },
          "metadata": {},
          "execution_count": 137
        }
      ]
    },
    {
      "cell_type": "code",
      "metadata": {
        "colab": {
          "base_uri": "https://localhost:8080/"
        },
        "id": "bPLoZiGthpmt",
        "outputId": "dd0e290a-7c69-4da1-f95b-c9f74c5981c7"
      },
      "source": [
        "3 <= 2"
      ],
      "execution_count": 138,
      "outputs": [
        {
          "output_type": "execute_result",
          "data": {
            "text/plain": [
              "False"
            ]
          },
          "metadata": {},
          "execution_count": 138
        }
      ]
    },
    {
      "cell_type": "code",
      "metadata": {
        "colab": {
          "base_uri": "https://localhost:8080/"
        },
        "id": "nxanET1ohp03",
        "outputId": "ea478656-6c8c-4aee-9a04-ae2bab441b7d"
      },
      "source": [
        "3 == 2.0\n"
      ],
      "execution_count": 139,
      "outputs": [
        {
          "output_type": "execute_result",
          "data": {
            "text/plain": [
              "False"
            ]
          },
          "metadata": {},
          "execution_count": 139
        }
      ]
    },
    {
      "cell_type": "code",
      "metadata": {
        "colab": {
          "base_uri": "https://localhost:8080/"
        },
        "id": "KOQF0Lrohp_-",
        "outputId": "c9c8e2f0-01ce-4c12-eb7c-b7f199f1dc26"
      },
      "source": [
        "3.0 == 3"
      ],
      "execution_count": 140,
      "outputs": [
        {
          "output_type": "execute_result",
          "data": {
            "text/plain": [
              "True"
            ]
          },
          "metadata": {},
          "execution_count": 140
        }
      ]
    },
    {
      "cell_type": "code",
      "metadata": {
        "colab": {
          "base_uri": "https://localhost:8080/"
        },
        "id": "oEkDtpIPh2bP",
        "outputId": "3f77f04f-65a9-4516-c4be-dbae4b2602c8"
      },
      "source": [
        "4**0.5 != 2"
      ],
      "execution_count": 141,
      "outputs": [
        {
          "output_type": "execute_result",
          "data": {
            "text/plain": [
              "False"
            ]
          },
          "metadata": {},
          "execution_count": 141
        }
      ]
    },
    {
      "cell_type": "code",
      "metadata": {
        "colab": {
          "base_uri": "https://localhost:8080/"
        },
        "id": "a3B_LEE_iMuT",
        "outputId": "bd8ebeb9-cef7-4180-e75f-fda49f122e60"
      },
      "source": [
        "l_one = [1,2,[3,4]]\n",
        "l_two = [1,2,{'k1':4}]\n",
        "\n",
        "l_one[2][0] >= l_two[2]['k1']"
      ],
      "execution_count": 142,
      "outputs": [
        {
          "output_type": "execute_result",
          "data": {
            "text/plain": [
              "False"
            ]
          },
          "metadata": {},
          "execution_count": 142
        }
      ]
    },
    {
      "cell_type": "markdown",
      "metadata": {
        "id": "SckLAGKIivX1"
      },
      "source": [
        "in above question 3 >= 4 that is why false"
      ]
    },
    {
      "cell_type": "code",
      "metadata": {
        "colab": {
          "base_uri": "https://localhost:8080/"
        },
        "id": "M6rJBgSLi1oU",
        "outputId": "184400d4-58f1-4288-cd98-bf20956c10a4"
      },
      "source": [
        "l = [(10, 20, 40), (40, 50, 60), (70, 80, 90)]\n",
        "print([t[:-1] + (100,) for t in l])"
      ],
      "execution_count": 143,
      "outputs": [
        {
          "output_type": "stream",
          "name": "stdout",
          "text": [
            "[(10, 20, 100), (40, 50, 100), (70, 80, 100)]\n"
          ]
        }
      ]
    },
    {
      "cell_type": "code",
      "metadata": {
        "colab": {
          "base_uri": "https://localhost:8080/"
        },
        "id": "p5YJ75UGklOm",
        "outputId": "2a99faab-6138-4648-e98f-7474e22e8d5f"
      },
      "source": [
        "set=(2,5,7,6,9)\n",
        "set"
      ],
      "execution_count": 145,
      "outputs": [
        {
          "output_type": "execute_result",
          "data": {
            "text/plain": [
              "(2, 5, 7, 6, 9)"
            ]
          },
          "metadata": {},
          "execution_count": 145
        }
      ]
    },
    {
      "cell_type": "code",
      "metadata": {
        "colab": {
          "base_uri": "https://localhost:8080/"
        },
        "id": "AAJy9pj9lVm9",
        "outputId": "d110c3e4-e296-4947-8790-12fea9ec1575"
      },
      "source": [
        "print(max(set))"
      ],
      "execution_count": 148,
      "outputs": [
        {
          "output_type": "stream",
          "name": "stdout",
          "text": [
            "9\n"
          ]
        }
      ]
    },
    {
      "cell_type": "code",
      "metadata": {
        "colab": {
          "base_uri": "https://localhost:8080/"
        },
        "id": "ILItLmcRlcVV",
        "outputId": "f580ed04-2235-48fc-cec4-2eb3b8205439"
      },
      "source": [
        "print(min(set))"
      ],
      "execution_count": 149,
      "outputs": [
        {
          "output_type": "stream",
          "name": "stdout",
          "text": [
            "2\n"
          ]
        }
      ]
    }
  ]
}